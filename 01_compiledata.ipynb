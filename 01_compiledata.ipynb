{
  "nbformat": 4,
  "nbformat_minor": 0,
  "metadata": {
    "colab": {
      "provenance": [],
      "authorship_tag": "ABX9TyPxqwhI8I8NLsTZf80qumdH",
      "include_colab_link": true
    },
    "kernelspec": {
      "name": "python3",
      "display_name": "Python 3"
    },
    "language_info": {
      "name": "python"
    }
  },
  "cells": [
    {
      "cell_type": "markdown",
      "metadata": {
        "id": "view-in-github",
        "colab_type": "text"
      },
      "source": [
        "<a href=\"https://colab.research.google.com/github/carlibeisel/DCEW_waterquality/blob/main/01_compiledata.ipynb\" target=\"_parent\"><img src=\"https://colab.research.google.com/assets/colab-badge.svg\" alt=\"Open In Colab\"/></a>"
      ]
    },
    {
      "cell_type": "markdown",
      "source": [
        "Author: Carli Beisel\n",
        "\n",
        "Creation Date: November 1, 2024\n",
        "\n",
        "**Purpose:** Compile existing water quality data for Dry Creek Experimental Watershed (DCEW). The data used in this script comes from Kyle Formigili and from sampling done in October of 2024. This makes sure all data is in the same format and fixes formatting errors."
      ],
      "metadata": {
        "id": "WloBmCug_566"
      }
    },
    {
      "cell_type": "code",
      "execution_count": null,
      "metadata": {
        "id": "IL87_CX8_2bT",
        "colab": {
          "base_uri": "https://localhost:8080/"
        },
        "outputId": "f6184515-215a-40b8-b09b-daaa9c4eb930"
      },
      "outputs": [
        {
          "output_type": "stream",
          "name": "stdout",
          "text": [
            "Mounted at /content/drive\n"
          ]
        }
      ],
      "source": [
        "# --------------------------- #\n",
        "# Import Packages & Libraries\n",
        "# --------------------------- #\n",
        "import numpy as np\n",
        "import pandas as pd\n",
        "\n",
        "#Connect to Google Drive if you want to export images\n",
        "from google.colab import drive\n",
        "drive.mount('/content/drive')"
      ]
    },
    {
      "cell_type": "code",
      "source": [
        "# -------------- #\n",
        "# Import Datsets\n",
        "# -------------- #\n",
        "his_data = pd.read_csv('/content/drive/MyDrive/Classes/Hydro Field Course Working Files/Assignments/7. Data Analysis/Water Quality/Data/DCEW_LabData_Master_Log - Formigli.csv')\n",
        "data = pd.read_csv('/content/drive/MyDrive/Classes/Hydro Field Course Working Files/Assignments/7. Data Analysis/Water Quality/Data/WQ Metadata - DCEW - Master Sheet.csv')"
      ],
      "metadata": {
        "id": "QWL7F_9S3Dm-"
      },
      "execution_count": null,
      "outputs": []
    },
    {
      "cell_type": "code",
      "source": [
        "# ------------------------------ #\n",
        "# Clean and Filter Historic data\n",
        "# ------------------------------ #\n",
        "\n",
        "# data supplied by Kyle Formigli & filtered for specific sample locations\n",
        "\n",
        "#renamed Sample Location to match our dataset\n",
        "his_data['Sample_Location'] = his_data['Sample_Location'].str.replace(r'^D-|^DC-', '', regex=True)\n",
        "\n",
        "#filtered for our sites\n",
        "historic_data = his_data[his_data['Sample_Location'].isin(['C2M', 'MRD', 'MR', 'C2E', 'C1E', 'C1S'])]\n",
        "historic_data.to_csv('/content/drive/MyDrive/Classes/Hydro Field Course Working Files/Assignments/7. Data Analysis/Water Quality/Data/DCEW_historic_data.csv')"
      ],
      "metadata": {
        "id": "Nu_pQjFd5FMD"
      },
      "execution_count": null,
      "outputs": []
    },
    {
      "cell_type": "code",
      "source": [
        "# ----------------- #\n",
        "# Combine Dataframes\n",
        "# ----------------- #\n",
        "\n",
        "# Convert the date columns and remove the time component\n",
        "historic_data['Date'] = pd.to_datetime(historic_data['Date_Time'], format='%m/%d/%y %H%M', errors='coerce').dt.date\n",
        "data['Date'] = pd.to_datetime(data['Sample Date '].str.strip() + '/2024', format='%m/%d/%Y', errors='coerce').dt.date\n",
        "data = data.rename(columns={'Sample ID': 'Sample_Location'})\n",
        "data = data.rename(columns={'Temp (C)': 'Temperature_Field'})\n",
        "data = data.rename(columns={'EC (uS/m)': 'EC_Field'})\n",
        "\n",
        "# Concatenate the selected columns from both DataFrames\n",
        "combined_data = pd.concat([historic_data, data], ignore_index=True)\n",
        "\n",
        "# Display the new combined DataFrame\n",
        "combined_data.to_csv('/content/drive/MyDrive/Classes/Hydro Field Course Working Files/Assignments/7. Data Analysis/Water Quality/Data/DCEW_combined_data.csv')"
      ],
      "metadata": {
        "colab": {
          "base_uri": "https://localhost:8080/"
        },
        "id": "gnSIOywM7BvJ",
        "outputId": "a8ae0b47-6182-4978-ac4d-a629cef5cbc0"
      },
      "execution_count": null,
      "outputs": [
        {
          "output_type": "stream",
          "name": "stderr",
          "text": [
            "<ipython-input-65-9cd7b652f7de>:6: SettingWithCopyWarning: \n",
            "A value is trying to be set on a copy of a slice from a DataFrame.\n",
            "Try using .loc[row_indexer,col_indexer] = value instead\n",
            "\n",
            "See the caveats in the documentation: https://pandas.pydata.org/pandas-docs/stable/user_guide/indexing.html#returning-a-view-versus-a-copy\n",
            "  historic_data['Date'] = pd.to_datetime(historic_data['Date_Time'], format='%m/%d/%y %H%M', errors='coerce').dt.date\n"
          ]
        }
      ]
    }
  ]
}